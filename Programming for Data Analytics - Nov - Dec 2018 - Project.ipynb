{
 "cells": [
  {
   "cell_type": "markdown",
   "metadata": {},
   "source": [
    "## Programming for Data Analysis Assignment 2018:\n",
    "\n",
    "For this project you must create a data set by simulating a real-world phenomenon of your choosing.  You may pick any phenomenon you wish – you might pick one that is of interest to you in your personal or professional life.  Then, rather than collect data related to the phenomenon, you should model and synthesise such data using Python.\n",
    "We suggest you use the numpy.random package for this purpose\n",
    "\n",
    "Choose a real-world phenomenon that can be measured and for which you could\n",
    "collect at least one-hundred data points across at least four different variables.\n",
    "\n",
    "* Investigate  the  types  of  variables  involved,  their  likely  distributions,  and  their relationships with each other.\n",
    "* Synthesise/simulate a data set as closely matching their properties as possible.\n",
    "* Detail your research and implement the simulation in a Jupyter notebook – the data set itself can simply be displayed in an output cell within the notebook.\n",
    "\n",
    "Note that this project is about simulation – you must synthesise a data set.  Some students may already have some real-world data sets in their own files.  It is okay to base your synthesised data set on these should you wish (please reference it if you do), but the main task in this project is to create a synthesised data set.  The next section gives an example project idea. Page 1 of 4\n",
    "\n",
    "Example project idea As a lecturer I might pick the real-world phenomenon of the performance of students studying a ten-credit module.  After some research, I decide that the most interesting variable related to this is the mark a student receives in the module - this is going to be one of my variables (grade).\n",
    "\n",
    "\n",
    "Upon  investigation  of  the  problem,  I  find  that  the  number  of  hours  on  average  a student  studies  per  week  (hours ),  the  number  of  times  they  log  onto  Moodle  in  the first three weeks of term (logins), and their previous level of degree qualification (qual) are closely related to grade .  The hours and grade variables will be non-negative real number with two decimal places, logins will be a non-zero integer and qual will be a categorical variable with four possible values: none , bachelors, masters, or phd.\n",
    "\n",
    "\n",
    "After some online research, I find that full-time post-graduate students study on av-\n",
    "erage four hours per week with a standard deviation of a quarter of an hour and that\n",
    "a normal distribution is an acceptable model of such a variable.  Likewise, I investigate\n",
    "the other four variables,  and I also look at the relationships between the variables.  I\n",
    "devise an algorithm (or method) to generate such a data set, simulating values of the\n",
    "four variables for two-hundred students.  I detail all this work in my notebook, and then\n",
    "I add some code in to generate a data set with those properties."
   ]
  },
  {
   "cell_type": "markdown",
   "metadata": {},
   "source": [
    "My variation:\n",
    "\n",
    "\n",
    "I want to be able to predict the distribution of grades for graduates in a given year based on:\n",
    "\n",
    "\n",
    "Number of expected graduates:\n",
    "\n",
    "LC points range at point of entry\n",
    "Likelihood of completion\n",
    "\n",
    "\n",
    "\n",
    "Restrict to persons who entered with LC results.\n",
    "Restricted to Honours degree Graduates only\n",
    "\n",
    "Initial research:\n",
    "\n",
    "(1) SRS Query - Graduates\n",
    "\n",
    "Student id\n",
    "Academic Year\n",
    "Gender Long\n",
    "Non Standard Award Desc\n",
    "Institute Type\n",
    "Institute\n",
    "Isced Broad Desc\n",
    "Grade Desc\n",
    "\n",
    "\n",
    "(2) SRS Query - Entrants\n",
    "\n",
    "Student id\n",
    "Number of Students\n",
    "Academic Year = 2012/13 and 2014/15\n",
    "Gender Long\n",
    "LC Points Range 1\n",
    "LC Points Range 2\n",
    "DEIS_OR_FEE_PAYING_DESC\n",
    "High Qual Desc\n",
    "Age Group\n",
    "Institute\n",
    "Institute Type\n",
    "Progtype Desc\n",
    "Isced Broad Desc\n",
    "\n",
    "(3) in Excel, crossrefrenced \n",
    "\n",
    "\n",
    "The aim of this project will be to investigate a dataset of students entering in the years 2012 and 2013 and graduating in 2016 or 2017 (double check correct years). Specifically, for Honours degrees, I want to investagate the distribution of final grades and see if there is a link between final grade achived and other factors, for example, gender, previous school attendedm, age on entry and LC points. The idea is to see if the dgrade distributions as a whol or for sunbgroups of entrants can be modelled by one of the more commonly used distributions used in the social sciences (e.g. pareto, do only 20% of students get a first, etc).\n",
    "\n",
    "The second part of the exercise will attempt to model the future distribution of grades for 2018 or 2019, based on an estimate of students predicted to graduate in these years.\n",
    "\n",
    "learnings\n",
    "\n",
    "Pandas and excel\n",
    "\n",
    "more about distributions.\n",
    "\n",
    "\n",
    "Please note that as of 06/12/2018.\n",
    "\n",
    "\n"
   ]
  },
  {
   "cell_type": "code",
   "execution_count": 4,
   "metadata": {},
   "outputs": [
    {
     "data": {
      "text/plain": [
       "array([6, 7, 5, 3, 2, 4, 1])"
      ]
     },
     "execution_count": 4,
     "metadata": {},
     "output_type": "execute_result"
    }
   ],
   "source": [
    "import numpy as np\n",
    "Universities = (1,2,3,4,5,6,7)\n",
    "np.random.permutation(Universities)"
   ]
  },
  {
   "cell_type": "code",
   "execution_count": null,
   "metadata": {
    "collapsed": true
   },
   "outputs": [],
   "source": []
  },
  {
   "cell_type": "code",
   "execution_count": null,
   "metadata": {
    "collapsed": true
   },
   "outputs": [],
   "source": []
  }
 ],
 "metadata": {
  "kernelspec": {
   "display_name": "Python 3",
   "language": "python",
   "name": "python3"
  },
  "language_info": {
   "codemirror_mode": {
    "name": "ipython",
    "version": 3
   },
   "file_extension": ".py",
   "mimetype": "text/x-python",
   "name": "python",
   "nbconvert_exporter": "python",
   "pygments_lexer": "ipython3",
   "version": "3.6.3"
  }
 },
 "nbformat": 4,
 "nbformat_minor": 2
}
