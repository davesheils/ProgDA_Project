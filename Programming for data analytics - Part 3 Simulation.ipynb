{
 "cells": [
  {
   "cell_type": "markdown",
   "metadata": {},
   "source": [
    "In this final section we will simulate the distribution of grades for a cohort of Irish Higher Education Graduates (Full-time honours degree only)\n",
    "\n",
    "The method will be as follows:\n",
    "\n",
    "(1) generate a randomly generated sequence based on a Normal Distribution. \n",
    "\n",
    "(2) for each value we will assign a grade, based on it falling into the following:\n",
    "\n",
    "1st Class Honours 70 - 100\n",
    "2nd Class Honours (Grade 1) 60 - 69\n",
    "2nd Class Honours (Grade 2) 50 - 59\n",
    "3rd Class Honours 40 - 49\n",
    "\n",
    "in practice, all scores > 69 will be classed as a first, likewise all scores below 49 will be classed as a 3rd Class Honours Degree\n",
    "\n",
    "(3) We will plot the distribution of these grades as a histogram"
   ]
  },
  {
   "cell_type": "code",
   "execution_count": 163,
   "metadata": {},
   "outputs": [],
   "source": [
    "import numpy as np\n",
    "import pandas as pd\n",
    "import seaborn as sns\n",
    "import matplotlib.pyplot as plt\n",
    "\n",
    "# (1) Function 'grade' to allocate grade based on score\n",
    "\n",
    "def grade(x):\n",
    "    if x > 69:\n",
    "        return '1st Class Honours'\n",
    "    elif x > 59:\n",
    "        return '2nd Class Honours (Grade 1)'\n",
    "    elif x > 49:\n",
    "        return '2nd Class Honours (Grade 2)'\n",
    "    else:\n",
    "        return '3rd Class Honours'\n",
    "\n",
    "# (2) function to simulate distribution of grades for an entimated number of graduates\n",
    "\n",
    "def GradesDistribution(x):\n",
    "    # Simulate distribution of grades, assuming a mean final score of 63 and a standard deviation of 8\n",
    "    # x = number of graduates\n",
    "    scores = np.random.normal(MeanScore, stddev, x)\n",
    "    # Using list comprehension, create a new array by \n",
    "    # calling the grade function to assign a grade to each member of the\n",
    "    # scores array\n",
    "    grades = ([grade(x) for x in scores]) # create a list of grades as a list\n",
    "    grades = np.asarray(grades) # convert list to numpy array\n",
    "    return grades"
   ]
  },
  {
   "cell_type": "code",
   "execution_count": 164,
   "metadata": {},
   "outputs": [],
   "source": [
    "# Now set variables\n",
    "\n",
    "students = 32184\n",
    "stddev = 8\n",
    "MeanScore = 63\n"
   ]
  },
  {
   "cell_type": "code",
   "execution_count": 130,
   "metadata": {
    "scrolled": true
   },
   "outputs": [
    {
     "data": {
      "image/png": "[encoded data removed]",
      "text/plain": [
       "<matplotlib.figure.Figure at 0x1820c4135f8>"
      ]
     },
     "metadata": {},
     "output_type": "display_data"
    }
   ],
   "source": [
    "plt.figure(figsize=(12, 8))\n",
    "plt.hist(GradesDistribution(students))\n",
    "plt.title('Simulation: Distribution of grades, Honours Degrees Graduates')\n",
    "plt.show()"
   ]
  },
  {
   "cell_type": "code",
   "execution_count": 165,
   "metadata": {},
   "outputs": [],
   "source": [
    "third = np.count_nonzero(grades == '3rd Class Honours')\n",
    "Two2 = np.count_nonzero(grades == '2nd Class Honours (Grade 2)')\n",
    "Two1 = np.count_nonzero(grades == '2nd Class Honours (Grade 1)')\n",
    "first  = np.count_nonzero(grades == '1st Class Honours')"
   ]
  },
  {
   "cell_type": "code",
   "execution_count": 162,
   "metadata": {},
   "outputs": [
    {
     "name": "stdout",
     "output_type": "stream",
     "text": [
      "Distribution of grades:\n",
      "Number of first class honours:  7,248 ( 23% )\n",
      "Number of 2nd Class Honours (Grade 2) 8,723 ( 27% )\n",
      "Number of 2nd Class Honours (Grade 1) 14,919 ( 23% )\n",
      "Number of 1st Class Honours 1,294 ( 4% )\n",
      "Total number of awards:  32,184\n"
     ]
    }
   ],
   "source": [
    "print(\"Distribution of grades:\")\n",
    "print( \"Number of first class honours: \", \"{:,}\".format(first), \"(\",\"{0:.0f}%\".format(first/students * 100),\")\")\n",
    "print(\"Number of 2nd Class Honours (Grade 2)\", \"{:,}\".format(Two2),\"(\",\"{0:.0f}%\".format(Two2/students * 100),\")\")\n",
    "print(\"Number of 2nd Class Honours (Grade 1)\", \"{:,}\".format(Two1) ,\"(\",\"{0:.0f}%\".format(first/students * 100),\")\")\n",
    "print(\"Number of 1st Class Honours\", \"{:,}\".format(third) ,\"(\",\"{0:.0f}%\".format(third/students * 100),\")\")\n",
    "print(\"Total number of awards: \", \"{:,}\".format(first + Two1 + Two2 + third))"
   ]
  },
  {
   "cell_type": "code",
   "execution_count": null,
   "metadata": {},
   "outputs": [],
   "source": []
  }
 ],
 "metadata": {
  "kernelspec": {
   "display_name": "Python 3",
   "language": "python",
   "name": "python3"
  },
  "language_info": {
   "codemirror_mode": {
    "name": "ipython",
    "version": 3
   },
   "file_extension": ".py",
   "mimetype": "text/x-python",
   "name": "python",
   "nbconvert_exporter": "python",
   "pygments_lexer": "ipython3",
   "version": "3.6.4"
  }
 },
 "nbformat": 4,
 "nbformat_minor": 2
}
