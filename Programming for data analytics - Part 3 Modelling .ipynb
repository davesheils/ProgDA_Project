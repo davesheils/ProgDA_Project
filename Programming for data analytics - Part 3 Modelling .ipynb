{
 "cells": [
  {
   "attachments": {},
   "cell_type": "markdown",
   "metadata": {},
   "source": [
    "In this section we will simulate the distribution of grades for a cohort of Irish Higher Ediucation Graduates\n",
    "\n",
    "The method will be as follows\n",
    "\n",
    "\n",
    "(1) generate a randomly generated sequence based on a PDF. For test purposes we will use a normal distribution. The range will be between 40 and 100 (as fails and non-completors are not part of the analysis.\n",
    "\n",
    "(2) for each value we will assign a grade, based on it falling into the following:\n",
    "\n",
    "\n",
    "1st Class Honours 70 - 100\n",
    "2nd Class Honours (Grade 1) 60 - 69\n",
    "2nd Class Honours (Grade 2) 50 - 59\n",
    "3rd Class Honours 40 - 49"
   ]
  },
  {
   "cell_type": "code",
   "execution_count": 19,
   "metadata": {},
   "outputs": [],
   "source": [
    "import numpy as np\n",
    "import pandas as pd\n",
    "import seaborn as sns\n",
    "import matplotlib.pyplot as plt"
   ]
  },
  {
   "cell_type": "code",
   "execution_count": 11,
   "metadata": {},
   "outputs": [],
   "source": [
    "# Function to allocate grade based on score\n",
    "\n",
    "def grade(x):\n",
    "    if x > 69:\n",
    "        return '1st Class Honours'\n",
    "    elif x > 59:\n",
    "        return '2nd Class Honours (Grade 1)'\n",
    "    elif x > 49:\n",
    "        return '2nd Class Honours (Grade 2)'\n",
    "    else:\n",
    "        return '3rd Class Honours'\n"
   ]
  },
  {
   "cell_type": "code",
   "execution_count": 17,
   "metadata": {},
   "outputs": [
    {
     "name": "stdout",
     "output_type": "stream",
     "text": [
      "1st Class Honours\n"
     ]
    }
   ],
   "source": [
    "print(grade(76))"
   ]
  },
  {
   "cell_type": "code",
   "execution_count": 30,
   "metadata": {},
   "outputs": [],
   "source": [
    "scores = np.random.normal(60,5, 19581)"
   ]
  },
  {
   "cell_type": "code",
   "execution_count": 31,
   "metadata": {},
   "outputs": [],
   "source": [
    "grades = [grade(x) for x in scores]\n"
   ]
  },
  {
   "cell_type": "code",
   "execution_count": 33,
   "metadata": {},
   "outputs": [
    {
     "data": {
      "image/png": "[encoded data removed]",
      "text/plain": [
       "<matplotlib.figure.Figure at 0x2d794aaca58>"
      ]
     },
     "metadata": {},
     "output_type": "display_data"
    }
   ],
   "source": [
    "# Plot histogram of distribution, grouped into grades\n",
    "\n",
    "plt.figure(figsize=(12, 8))\n",
    "plt.hist(grades)\n",
    "plt.show()"
   ]
  },
  {
   "cell_type": "code",
   "execution_count": null,
   "metadata": {},
   "outputs": [],
   "source": []
  }
 ],
 "metadata": {
  "kernelspec": {
   "display_name": "Python 3",
   "language": "python",
   "name": "python3"
  },
  "language_info": {
   "codemirror_mode": {
    "name": "ipython",
    "version": 3
   },
   "file_extension": ".py",
   "mimetype": "text/x-python",
   "name": "python",
   "nbconvert_exporter": "python",
   "pygments_lexer": "ipython3",
   "version": "3.6.4"
  }
 },
 "nbformat": 4,
 "nbformat_minor": 2
}
